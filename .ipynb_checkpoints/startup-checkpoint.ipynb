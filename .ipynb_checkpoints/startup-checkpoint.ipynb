{
 "cells": [
  {
   "cell_type": "code",
   "execution_count": 1,
   "metadata": {},
   "outputs": [
    {
     "name": "stderr",
     "output_type": "stream",
     "text": [
      "[nltk_data] Downloading package stopwords to\n",
      "[nltk_data]     C:\\Users\\Arm\\AppData\\Roaming\\nltk_data...\n",
      "[nltk_data]   Package stopwords is already up-to-date!\n"
     ]
    },
    {
     "data": {
      "text/plain": [
       "True"
      ]
     },
     "execution_count": 1,
     "metadata": {},
     "output_type": "execute_result"
    }
   ],
   "source": [
    "import numpy as np\n",
    "from datetime import datetime\n",
    "from sklearn.ensemble import ExtraTreesClassifier\n",
    "from sklearn.model_selection import GridSearchCV\n",
    "from sklearn.tree import DecisionTreeClassifier\n",
    "from sklearn.neighbors import KNeighborsClassifier\n",
    "from sklearn.svm import SVC\n",
    "from sklearn.ensemble import RandomForestClassifier\n",
    "\n",
    "from sklearn.compose import ColumnTransformer\n",
    "from sklearn.pipeline import Pipeline\n",
    "from sklearn.impute import SimpleImputer\n",
    "from sklearn.preprocessing import StandardScaler, OneHotEncoder\n",
    "from sklearn.linear_model import LogisticRegression\n",
    "from sklearn.model_selection import train_test_split, GridSearchCV\n",
    "from sklearn.feature_extraction.text import CountVectorizer, TfidfVectorizer\n",
    "from sklearn.metrics import classification_report, plot_confusion_matrix\n",
    "from sklearn.metrics import roc_curve, auc, precision_recall_curve\n",
    "import pandas as pd\n",
    "import numpy as np\n",
    "import seaborn as sns\n",
    "import matplotlib.pyplot as plt\n",
    "import matplotlib.mlab as mlab\n",
    "from sklearn.metrics import roc_curve\n",
    "from sklearn import preprocessing\n",
    "from sklearn.metrics import roc_auc_score, accuracy_score, precision_score, recall_score\n",
    "import re\n",
    "import nltk\n",
    "from sklearn.model_selection import train_test_split\n",
    "from sklearn.metrics import confusion_matrix\n",
    "from nltk.corpus import stopwords\n",
    "from nltk.stem.porter import PorterStemmer\n",
    "import statsmodels.api as sm\n",
    "from sklearn_pandas import CategoricalImputer\n",
    "from sklearn.model_selection import cross_val_score\n",
    "\n",
    "nltk.download('stopwords')"
   ]
  },
  {
   "cell_type": "markdown",
   "metadata": {},
   "source": [
    "# Data Cleaning"
   ]
  },
  {
   "cell_type": "code",
   "execution_count": 2,
   "metadata": {},
   "outputs": [],
   "source": [
    "df = pd.read_csv('./Data/startup.csv', encoding='unicode_escape')"
   ]
  },
  {
   "cell_type": "code",
   "execution_count": 3,
   "metadata": {},
   "outputs": [
    {
     "data": {
      "text/plain": [
       "0            NaN\n",
       "1            NaN\n",
       "2      12/1/2011\n",
       "3      6/20/2009\n",
       "4       4/1/2010\n",
       "         ...    \n",
       "467     3/1/2011\n",
       "468          NaN\n",
       "469     5/1/2010\n",
       "470    10/1/2009\n",
       "471     7/1/2013\n",
       "Name: Est. Founding Date, Length: 472, dtype: object"
      ]
     },
     "execution_count": 3,
     "metadata": {},
     "output_type": "execute_result"
    }
   ],
   "source": [
    "df['Est. Founding Date']"
   ]
  },
  {
   "cell_type": "code",
   "execution_count": 4,
   "metadata": {},
   "outputs": [
    {
     "data": {
      "text/plain": [
       "0         NaN\n",
       "1         NaN\n",
       "2      2011.0\n",
       "3      2009.0\n",
       "4      2010.0\n",
       "        ...  \n",
       "467    2011.0\n",
       "468       NaN\n",
       "469    2010.0\n",
       "470    2009.0\n",
       "471    2013.0\n",
       "Name: Est. Founding Date, Length: 472, dtype: float64"
      ]
     },
     "execution_count": 4,
     "metadata": {},
     "output_type": "execute_result"
    }
   ],
   "source": [
    "df['Est. Founding Date'] = (pd.DatetimeIndex(df['Est. Founding Date']).year)\n",
    "df['Est. Founding Date']"
   ]
  },
  {
   "cell_type": "markdown",
   "metadata": {},
   "source": [
    "I extracted only year,as variable \"year of founding\" includes only year to compare them two. "
   ]
  },
  {
   "cell_type": "code",
   "execution_count": 5,
   "metadata": {},
   "outputs": [
    {
     "data": {
      "text/plain": [
       "year of founding\n",
       "1997        1\n",
       "1999        1\n",
       "2000        4\n",
       "2002        3\n",
       "2003        2\n",
       "2004        2\n",
       "2005       23\n",
       "2006       14\n",
       "2007       42\n",
       "2008       33\n",
       "2009       49\n",
       "2010       76\n",
       "2011       70\n",
       "2012       73\n",
       "2013       20\n",
       "No Info    59\n",
       "dtype: int64"
      ]
     },
     "execution_count": 5,
     "metadata": {},
     "output_type": "execute_result"
    }
   ],
   "source": [
    "df.groupby('year of founding').size()"
   ]
  },
  {
   "cell_type": "code",
   "execution_count": 6,
   "metadata": {},
   "outputs": [
    {
     "data": {
      "text/plain": [
       "Est. Founding Date\n",
       "1997.0     1\n",
       "1999.0     1\n",
       "2000.0     4\n",
       "2002.0     3\n",
       "2003.0     2\n",
       "2004.0     2\n",
       "2005.0    22\n",
       "2006.0    11\n",
       "2007.0    34\n",
       "2008.0    31\n",
       "2009.0    43\n",
       "2010.0    71\n",
       "2011.0    66\n",
       "2012.0    54\n",
       "2013.0    18\n",
       "dtype: int64"
      ]
     },
     "execution_count": 6,
     "metadata": {},
     "output_type": "execute_result"
    }
   ],
   "source": [
    "df.groupby('Est. Founding Date').size()"
   ]
  },
  {
   "cell_type": "code",
   "execution_count": 7,
   "metadata": {},
   "outputs": [],
   "source": [
    "comparison = zip(df[\"year of founding\"], df['Est. Founding Date'])\n",
    "for date1, date2 in comparison:\n",
    "    if (date1 != \"No Info\" and date2 > 0):\n",
    "        date1 = int(date1)\n",
    "        date2 = int(date2)\n",
    "#         print(date1==date2)"
   ]
  },
  {
   "cell_type": "markdown",
   "metadata": {},
   "source": [
    "- So I noticed from last output that all the estimated year of founding and Actual founding years are the same, except only 1 observation. We may not even consider this one observation important for us, as only one observation (out of the observations that are not NA) cannot influence the data, in case it is not high outlier or something. In this case, I will drop the estimated date of founding as this column is nothing else than duplicate of actual year of founding. So the No info are to be considered later on. So we will go on with only Year of founding variable for the next steps."
   ]
  },
  {
   "cell_type": "code",
   "execution_count": 8,
   "metadata": {},
   "outputs": [],
   "source": [
    "df = df.drop(columns=['Est. Founding Date'])"
   ]
  },
  {
   "cell_type": "markdown",
   "metadata": {},
   "source": [
    "- from the variable \"Age of company in years\" it is clear that our dataset is provided in 2014 year, because 2014 minus \"Age of company in years\" == \"year of founding\". Therefore we can remove this unnecessary column."
   ]
  },
  {
   "cell_type": "code",
   "execution_count": 9,
   "metadata": {},
   "outputs": [],
   "source": [
    "df = df.drop(columns=['Age of company in years'])"
   ]
  },
  {
   "cell_type": "markdown",
   "metadata": {},
   "source": [
    "- There no information in column \"Company_Name\". Therefore we can remove it too"
   ]
  },
  {
   "cell_type": "code",
   "execution_count": 10,
   "metadata": {},
   "outputs": [],
   "source": [
    "df = df.drop(columns=['Company_Name'])"
   ]
  },
  {
   "cell_type": "markdown",
   "metadata": {},
   "source": [
    "- Now I will change the  Time to maturity of technology (in years) and create 2 columns from and to years for further applying them in the model. And of course I will delete the actual column"
   ]
  },
  {
   "cell_type": "code",
   "execution_count": 11,
   "metadata": {},
   "outputs": [
    {
     "name": "stdout",
     "output_type": "stream",
     "text": [
      "172 300\n"
     ]
    }
   ],
   "source": [
    "full_interval = []\n",
    "p = 0\n",
    "l = 0\n",
    "for val in df['Time to maturity of technology (in years)']:\n",
    "    if pd.isnull(val):\n",
    "        p = p + 1\n",
    "        full_interval.append([np.nan, np.nan])\n",
    "    else:\n",
    "        l = l + 1\n",
    "        interval = [int(s) for s in val.split() if s.isdigit()]\n",
    "        full_interval.append(interval)\n",
    "\n",
    "print(p, l)\n",
    "# full_interval"
   ]
  },
  {
   "cell_type": "code",
   "execution_count": 12,
   "metadata": {},
   "outputs": [],
   "source": [
    "full_interval = np.array(full_interval)\n",
    "\n",
    "df['Time to maturity of technology (in years) from'] = pd.Series(\n",
    "    full_interval.T[0])\n",
    "df['Time to maturity of technology (in years) to'] = pd.Series(\n",
    "    full_interval.T[1])"
   ]
  },
  {
   "cell_type": "code",
   "execution_count": 13,
   "metadata": {},
   "outputs": [],
   "source": [
    "df = df.drop(columns=['Time to maturity of technology (in years)'])"
   ]
  },
  {
   "cell_type": "code",
   "execution_count": 14,
   "metadata": {},
   "outputs": [],
   "source": [
    "# Handling Last Funding Date column\n",
    "year = []\n",
    "month = []\n",
    "day = []\n",
    "for val in df['Last Funding Date']:\n",
    "    if pd.isnull(val):\n",
    "        year.append(np.nan)\n",
    "        month.append(np.nan)\n",
    "        day.append(np.nan)\n",
    "\n",
    "    else:\n",
    "        datetime_object = datetime.strptime(val, \"%m/%d/%Y\")\n",
    "        year.append(datetime_object.year)\n",
    "        month.append(datetime_object.month)\n",
    "        day.append(datetime_object.day)\n",
    "\n",
    "df['Last Funding Date_year'] = pd.Series(year)\n",
    "df['Last Funding Date_month'] = pd.Series(month)\n",
    "df['Last Funding Date_day'] = pd.Series(day)\n",
    "df = df.drop(columns=['Last Funding Date'])"
   ]
  },
  {
   "cell_type": "markdown",
   "metadata": {},
   "source": [
    "# Imputations of Data"
   ]
  },
  {
   "cell_type": "code",
   "execution_count": 15,
   "metadata": {},
   "outputs": [],
   "source": [
    "numerical = [\n",
    "    'Last Funding Date_year', 'Last Funding Date_month',\n",
    "    'Last Funding Date_day', 'year of founding', 'Internet Activity Score',\n",
    "    'Employee Count', 'Employees count MoM change', 'Last Funding Amount',\n",
    "    'Number of Investors in Seed', 'Number of Investors in Angel and or VC',\n",
    "    'Number of Co-founders', 'Number of of advisors',\n",
    "    'Team size Senior leadership', 'Team size all employees',\n",
    "    'Number of of repeat investors', 'Years of education',\n",
    "    'Renowned in professional circle',\n",
    "    'Experience in Fortune 100 organizations',\n",
    "    'Experience in Fortune 500 organizations',\n",
    "    'Experience in Fortune 1000 organizations',\n",
    "    'Number of Recognitions for Founders and Co-founders', 'Skills score',\n",
    "    'google page rank of company website', 'Industry trend in investing',\n",
    "    'Number of Direct competitors', 'Employees per year of company existence',\n",
    "    'Last round of funding received (in milionUSD)',\n",
    "    'Time to 1st investment (in months)',\n",
    "    'Avg time to investment - average across all rounds, measured from previous investment',\n",
    "    'Time to maturity of technology (in years) from',\n",
    "    'Time to maturity of technology (in years) to',\n",
    "    'Percent_skill_Entrepreneurship', 'Percent_skill_Operations',\n",
    "    'Percent_skill_Engineering', 'Percent_skill_Marketing',\n",
    "    'Percent_skill_Leadership', 'Percent_skill_Data Science',\n",
    "    'Percent_skill_Business Strategy', 'Percent_skill_Product Management',\n",
    "    'Percent_skill_Sales', 'Percent_skill_Domain', 'Percent_skill_Law',\n",
    "    'Percent_skill_Consulting', 'Percent_skill_Finance',\n",
    "    'Percent_skill_Investment', 'Renown score'\n",
    "]\n",
    "\n",
    "categorical = [\n",
    "    'Dependent-Company Status', 'Has the team size grown',\n",
    "    'Country of company', 'Continent of company',\n",
    "    'Presence of a top angel or venture fund in previous round of investment',\n",
    "    'Number of  Sales Support material', 'Worked in top companies',\n",
    "    'Average size of companies worked for in the past',\n",
    "    'Have been part of startups in the past?',\n",
    "    'Have been part of successful startups in the past?',\n",
    "    'Was he or she partner in Big 5 consulting?', 'Consulting experience?',\n",
    "    'Product or service company?',\n",
    "    'Catering to product/service across verticals',\n",
    "    'Focus on private or public data?', 'Focus on consumer data?',\n",
    "    'Focus on structured or unstructured data', 'Subscription based business',\n",
    "    'Cloud or platform based serive/product?', 'Local or global player',\n",
    "    'Linear or Non-linear business model',\n",
    "    'Capital intensive business e.g. e-commerce, Engineering products and operations can also cause a business to be capital intensive',\n",
    "    'Number of  of Partners of company', 'Crowdsourcing based business',\n",
    "    'Crowdfunding based business', 'Machine Learning based business',\n",
    "    'Predictive Analytics business', 'Speech analytics business',\n",
    "    'Prescriptive analytics business', 'Big Data Business',\n",
    "    'Cross-Channel Analytics/ marketing channels',\n",
    "    'Owns data or not? (monetization of data) e.g. Factual',\n",
    "    'Is the company an aggregator/market place? e.g. Bluekai',\n",
    "    'Online or offline venture - physical location based business or online venture?',\n",
    "    'B2C or B2B venture?',\n",
    "    \"Top forums like 'Tech crunch' or 'Venture beat' talking about the company/model - How much is it being talked about?\",\n",
    "    'Average Years of experience for founder and co founder',\n",
    "    'Exposure across the globe', 'Breadth of experience across verticals',\n",
    "    'Highest education', 'Specialization of highest education',\n",
    "    'Relevance of education to venture',\n",
    "    'Degree from a Tier 1 or Tier 2 university?',\n",
    "    'Experience in selling and building products', 'Top management similarity',\n",
    "    'Number of  of Research publications', 'Team Composition score',\n",
    "    'Dificulty of Obtaining Work force', 'Pricing Strategy',\n",
    "    'Hyper localisation', 'Time to market service or product',\n",
    "    'Employee benefits and salary structures',\n",
    "    'Long term relationship with other founders',\n",
    "    'Proprietary or patent position (competitive position)',\n",
    "    'Barriers of entry for the competitors', 'Company awards',\n",
    "    'Controversial history of founder or co founder',\n",
    "    'Legal risk and intellectual property', 'Client Reputation',\n",
    "    'Technical proficiencies to analyse and interpret unstructured data',\n",
    "    'Solutions offered', 'Invested through global incubation competitions?',\n",
    "    'Disruptiveness of technology',\n",
    "    'Survival through recession, based on existence of the company through recession times',\n",
    "    'Gartner hype cycle stage', 'Relevance of experience to venture'\n",
    "]"
   ]
  },
  {
   "cell_type": "code",
   "execution_count": 16,
   "metadata": {},
   "outputs": [
    {
     "name": "stdout",
     "output_type": "stream",
     "text": [
      "2469 1388 36\n"
     ]
    }
   ],
   "source": [
    "for i in numerical:\n",
    "    df[i] = df[i].astype(str)\n",
    "\n",
    "for i in numerical:\n",
    "    df[i] = df[i].astype(str)\n",
    "# Getting imputing the empty values\n",
    "a = 0\n",
    "b = 0\n",
    "c = 0\n",
    "\n",
    "for col in numerical:\n",
    "    for j, row_val in enumerate(df[col]):\n",
    "        if row_val == 'No Info':\n",
    "            a = a + 1\n",
    "            df[col][j] = np.nan\n",
    "\n",
    "        elif row_val == 'nan':\n",
    "            df[col][j] = np.nan\n",
    "            b = b + 1\n",
    "\n",
    "        elif row_val == 'unknown amount':\n",
    "            c = c + 1\n",
    "            df[col][j] = np.nan\n",
    "\n",
    "print(a, b, c)"
   ]
  },
  {
   "cell_type": "code",
   "execution_count": 17,
   "metadata": {},
   "outputs": [],
   "source": [
    "def floatConverter(X):\n",
    "    for i, val in enumerate(X):\n",
    "        if pd.isnull(val):\n",
    "            continue\n",
    "        else:\n",
    "            X[i] = float(val)\n",
    "\n",
    "\n",
    "for col in numerical:\n",
    "    floatConverter(df[col])"
   ]
  },
  {
   "cell_type": "code",
   "execution_count": 18,
   "metadata": {},
   "outputs": [
    {
     "name": "stdout",
     "output_type": "stream",
     "text": [
      "3550 461\n"
     ]
    }
   ],
   "source": [
    "for col in categorical:\n",
    "    df[col] = df[col].astype(str)\n",
    "    for index, val in enumerate(df[col]):\n",
    "        df[col][index] = df[col][index].lower()\n",
    "\n",
    "# Getting imputing the empty values\n",
    "a = 0\n",
    "b = 0\n",
    "c = 0\n",
    "\n",
    "for col in categorical:\n",
    "    for j, row_val in enumerate(df[col]):\n",
    "        if row_val == 'no info':\n",
    "            a = a + 1\n",
    "            df[col][j] = np.nan\n",
    "\n",
    "        elif row_val == 'nan':\n",
    "            df[col][j] = np.nan\n",
    "            b = b + 1\n",
    "\n",
    "print(a, b)"
   ]
  },
  {
   "cell_type": "code",
   "execution_count": 19,
   "metadata": {},
   "outputs": [
    {
     "data": {
      "text/html": [
       "<div>\n",
       "<style scoped>\n",
       "    .dataframe tbody tr th:only-of-type {\n",
       "        vertical-align: middle;\n",
       "    }\n",
       "\n",
       "    .dataframe tbody tr th {\n",
       "        vertical-align: top;\n",
       "    }\n",
       "\n",
       "    .dataframe thead th {\n",
       "        text-align: right;\n",
       "    }\n",
       "</style>\n",
       "<table border=\"1\" class=\"dataframe\">\n",
       "  <thead>\n",
       "    <tr style=\"text-align: right;\">\n",
       "      <th></th>\n",
       "      <th>Dependent-Company Status</th>\n",
       "      <th>Has the team size grown</th>\n",
       "      <th>Country of company</th>\n",
       "      <th>Continent of company</th>\n",
       "      <th>Presence of a top angel or venture fund in previous round of investment</th>\n",
       "      <th>Number of  Sales Support material</th>\n",
       "      <th>Worked in top companies</th>\n",
       "      <th>Average size of companies worked for in the past</th>\n",
       "      <th>Have been part of startups in the past?</th>\n",
       "      <th>Have been part of successful startups in the past?</th>\n",
       "      <th>...</th>\n",
       "      <th>Controversial history of founder or co founder</th>\n",
       "      <th>Legal risk and intellectual property</th>\n",
       "      <th>Client Reputation</th>\n",
       "      <th>Technical proficiencies to analyse and interpret unstructured data</th>\n",
       "      <th>Solutions offered</th>\n",
       "      <th>Invested through global incubation competitions?</th>\n",
       "      <th>Disruptiveness of technology</th>\n",
       "      <th>Survival through recession, based on existence of the company through recession times</th>\n",
       "      <th>Gartner hype cycle stage</th>\n",
       "      <th>Relevance of experience to venture</th>\n",
       "    </tr>\n",
       "  </thead>\n",
       "  <tbody>\n",
       "    <tr>\n",
       "      <th>0</th>\n",
       "      <td>success</td>\n",
       "      <td>no</td>\n",
       "      <td>united states</td>\n",
       "      <td>north america</td>\n",
       "      <td>yes</td>\n",
       "      <td>nothing</td>\n",
       "      <td>no</td>\n",
       "      <td>small</td>\n",
       "      <td>no</td>\n",
       "      <td>no</td>\n",
       "      <td>...</td>\n",
       "      <td>no</td>\n",
       "      <td>no</td>\n",
       "      <td>NaN</td>\n",
       "      <td>no</td>\n",
       "      <td>yes</td>\n",
       "      <td>no</td>\n",
       "      <td>low</td>\n",
       "      <td>NaN</td>\n",
       "      <td>NaN</td>\n",
       "      <td>yes</td>\n",
       "    </tr>\n",
       "    <tr>\n",
       "      <th>1</th>\n",
       "      <td>success</td>\n",
       "      <td>no</td>\n",
       "      <td>united states</td>\n",
       "      <td>north america</td>\n",
       "      <td>no</td>\n",
       "      <td>medium</td>\n",
       "      <td>yes</td>\n",
       "      <td>large</td>\n",
       "      <td>yes</td>\n",
       "      <td>yes</td>\n",
       "      <td>...</td>\n",
       "      <td>no</td>\n",
       "      <td>yes</td>\n",
       "      <td>medium</td>\n",
       "      <td>yes</td>\n",
       "      <td>yes</td>\n",
       "      <td>no</td>\n",
       "      <td>medium</td>\n",
       "      <td>not applicable</td>\n",
       "      <td>trough</td>\n",
       "      <td>yes</td>\n",
       "    </tr>\n",
       "    <tr>\n",
       "      <th>2</th>\n",
       "      <td>success</td>\n",
       "      <td>no</td>\n",
       "      <td>united states</td>\n",
       "      <td>north america</td>\n",
       "      <td>no</td>\n",
       "      <td>low</td>\n",
       "      <td>yes</td>\n",
       "      <td>medium</td>\n",
       "      <td>no</td>\n",
       "      <td>no</td>\n",
       "      <td>...</td>\n",
       "      <td>no</td>\n",
       "      <td>no</td>\n",
       "      <td>low</td>\n",
       "      <td>yes</td>\n",
       "      <td>yes</td>\n",
       "      <td>yes</td>\n",
       "      <td>medium</td>\n",
       "      <td>not applicable</td>\n",
       "      <td>trough</td>\n",
       "      <td>yes</td>\n",
       "    </tr>\n",
       "    <tr>\n",
       "      <th>3</th>\n",
       "      <td>success</td>\n",
       "      <td>no</td>\n",
       "      <td>united states</td>\n",
       "      <td>north america</td>\n",
       "      <td>yes</td>\n",
       "      <td>low</td>\n",
       "      <td>no</td>\n",
       "      <td>large</td>\n",
       "      <td>yes</td>\n",
       "      <td>yes</td>\n",
       "      <td>...</td>\n",
       "      <td>no</td>\n",
       "      <td>no</td>\n",
       "      <td>low</td>\n",
       "      <td>no</td>\n",
       "      <td>yes</td>\n",
       "      <td>yes</td>\n",
       "      <td>medium</td>\n",
       "      <td>not applicable</td>\n",
       "      <td>trough</td>\n",
       "      <td>yes</td>\n",
       "    </tr>\n",
       "    <tr>\n",
       "      <th>4</th>\n",
       "      <td>success</td>\n",
       "      <td>no</td>\n",
       "      <td>united states</td>\n",
       "      <td>north america</td>\n",
       "      <td>no</td>\n",
       "      <td>high</td>\n",
       "      <td>no</td>\n",
       "      <td>small</td>\n",
       "      <td>no</td>\n",
       "      <td>no</td>\n",
       "      <td>...</td>\n",
       "      <td>no</td>\n",
       "      <td>no</td>\n",
       "      <td>low</td>\n",
       "      <td>yes</td>\n",
       "      <td>yes</td>\n",
       "      <td>no</td>\n",
       "      <td>medium</td>\n",
       "      <td>not applicable</td>\n",
       "      <td>NaN</td>\n",
       "      <td>yes</td>\n",
       "    </tr>\n",
       "    <tr>\n",
       "      <th>...</th>\n",
       "      <td>...</td>\n",
       "      <td>...</td>\n",
       "      <td>...</td>\n",
       "      <td>...</td>\n",
       "      <td>...</td>\n",
       "      <td>...</td>\n",
       "      <td>...</td>\n",
       "      <td>...</td>\n",
       "      <td>...</td>\n",
       "      <td>...</td>\n",
       "      <td>...</td>\n",
       "      <td>...</td>\n",
       "      <td>...</td>\n",
       "      <td>...</td>\n",
       "      <td>...</td>\n",
       "      <td>...</td>\n",
       "      <td>...</td>\n",
       "      <td>...</td>\n",
       "      <td>...</td>\n",
       "      <td>...</td>\n",
       "      <td>...</td>\n",
       "    </tr>\n",
       "    <tr>\n",
       "      <th>467</th>\n",
       "      <td>failed</td>\n",
       "      <td>no</td>\n",
       "      <td>united states</td>\n",
       "      <td>north america</td>\n",
       "      <td>no</td>\n",
       "      <td>NaN</td>\n",
       "      <td>NaN</td>\n",
       "      <td>NaN</td>\n",
       "      <td>NaN</td>\n",
       "      <td>NaN</td>\n",
       "      <td>...</td>\n",
       "      <td>NaN</td>\n",
       "      <td>NaN</td>\n",
       "      <td>NaN</td>\n",
       "      <td>NaN</td>\n",
       "      <td>NaN</td>\n",
       "      <td>NaN</td>\n",
       "      <td>NaN</td>\n",
       "      <td>NaN</td>\n",
       "      <td>NaN</td>\n",
       "      <td>NaN</td>\n",
       "    </tr>\n",
       "    <tr>\n",
       "      <th>468</th>\n",
       "      <td>failed</td>\n",
       "      <td>no</td>\n",
       "      <td>NaN</td>\n",
       "      <td>NaN</td>\n",
       "      <td>no</td>\n",
       "      <td>NaN</td>\n",
       "      <td>NaN</td>\n",
       "      <td>NaN</td>\n",
       "      <td>NaN</td>\n",
       "      <td>NaN</td>\n",
       "      <td>...</td>\n",
       "      <td>NaN</td>\n",
       "      <td>NaN</td>\n",
       "      <td>NaN</td>\n",
       "      <td>NaN</td>\n",
       "      <td>NaN</td>\n",
       "      <td>NaN</td>\n",
       "      <td>NaN</td>\n",
       "      <td>NaN</td>\n",
       "      <td>NaN</td>\n",
       "      <td>NaN</td>\n",
       "    </tr>\n",
       "    <tr>\n",
       "      <th>469</th>\n",
       "      <td>failed</td>\n",
       "      <td>NaN</td>\n",
       "      <td>united states</td>\n",
       "      <td>north america</td>\n",
       "      <td>NaN</td>\n",
       "      <td>NaN</td>\n",
       "      <td>NaN</td>\n",
       "      <td>NaN</td>\n",
       "      <td>NaN</td>\n",
       "      <td>NaN</td>\n",
       "      <td>...</td>\n",
       "      <td>NaN</td>\n",
       "      <td>NaN</td>\n",
       "      <td>NaN</td>\n",
       "      <td>NaN</td>\n",
       "      <td>NaN</td>\n",
       "      <td>NaN</td>\n",
       "      <td>NaN</td>\n",
       "      <td>NaN</td>\n",
       "      <td>NaN</td>\n",
       "      <td>NaN</td>\n",
       "    </tr>\n",
       "    <tr>\n",
       "      <th>470</th>\n",
       "      <td>failed</td>\n",
       "      <td>NaN</td>\n",
       "      <td>united states</td>\n",
       "      <td>north america</td>\n",
       "      <td>NaN</td>\n",
       "      <td>NaN</td>\n",
       "      <td>NaN</td>\n",
       "      <td>NaN</td>\n",
       "      <td>NaN</td>\n",
       "      <td>NaN</td>\n",
       "      <td>...</td>\n",
       "      <td>NaN</td>\n",
       "      <td>NaN</td>\n",
       "      <td>NaN</td>\n",
       "      <td>NaN</td>\n",
       "      <td>NaN</td>\n",
       "      <td>NaN</td>\n",
       "      <td>NaN</td>\n",
       "      <td>NaN</td>\n",
       "      <td>NaN</td>\n",
       "      <td>NaN</td>\n",
       "    </tr>\n",
       "    <tr>\n",
       "      <th>471</th>\n",
       "      <td>failed</td>\n",
       "      <td>NaN</td>\n",
       "      <td>united states</td>\n",
       "      <td>north america</td>\n",
       "      <td>NaN</td>\n",
       "      <td>NaN</td>\n",
       "      <td>NaN</td>\n",
       "      <td>NaN</td>\n",
       "      <td>NaN</td>\n",
       "      <td>NaN</td>\n",
       "      <td>...</td>\n",
       "      <td>NaN</td>\n",
       "      <td>NaN</td>\n",
       "      <td>NaN</td>\n",
       "      <td>NaN</td>\n",
       "      <td>NaN</td>\n",
       "      <td>NaN</td>\n",
       "      <td>NaN</td>\n",
       "      <td>NaN</td>\n",
       "      <td>NaN</td>\n",
       "      <td>NaN</td>\n",
       "    </tr>\n",
       "  </tbody>\n",
       "</table>\n",
       "<p>472 rows × 66 columns</p>\n",
       "</div>"
      ],
      "text/plain": [
       "    Dependent-Company Status Has the team size grown Country of company  \\\n",
       "0                    success                      no      united states   \n",
       "1                    success                      no      united states   \n",
       "2                    success                      no      united states   \n",
       "3                    success                      no      united states   \n",
       "4                    success                      no      united states   \n",
       "..                       ...                     ...                ...   \n",
       "467                   failed                      no      united states   \n",
       "468                   failed                      no                NaN   \n",
       "469                   failed                     NaN      united states   \n",
       "470                   failed                     NaN      united states   \n",
       "471                   failed                     NaN      united states   \n",
       "\n",
       "    Continent of company  \\\n",
       "0          north america   \n",
       "1          north america   \n",
       "2          north america   \n",
       "3          north america   \n",
       "4          north america   \n",
       "..                   ...   \n",
       "467        north america   \n",
       "468                  NaN   \n",
       "469        north america   \n",
       "470        north america   \n",
       "471        north america   \n",
       "\n",
       "    Presence of a top angel or venture fund in previous round of investment  \\\n",
       "0                                                  yes                        \n",
       "1                                                   no                        \n",
       "2                                                   no                        \n",
       "3                                                  yes                        \n",
       "4                                                   no                        \n",
       "..                                                 ...                        \n",
       "467                                                 no                        \n",
       "468                                                 no                        \n",
       "469                                                NaN                        \n",
       "470                                                NaN                        \n",
       "471                                                NaN                        \n",
       "\n",
       "    Number of  Sales Support material Worked in top companies  \\\n",
       "0                             nothing                      no   \n",
       "1                              medium                     yes   \n",
       "2                                 low                     yes   \n",
       "3                                 low                      no   \n",
       "4                                high                      no   \n",
       "..                                ...                     ...   \n",
       "467                               NaN                     NaN   \n",
       "468                               NaN                     NaN   \n",
       "469                               NaN                     NaN   \n",
       "470                               NaN                     NaN   \n",
       "471                               NaN                     NaN   \n",
       "\n",
       "    Average size of companies worked for in the past  \\\n",
       "0                                              small   \n",
       "1                                              large   \n",
       "2                                             medium   \n",
       "3                                              large   \n",
       "4                                              small   \n",
       "..                                               ...   \n",
       "467                                              NaN   \n",
       "468                                              NaN   \n",
       "469                                              NaN   \n",
       "470                                              NaN   \n",
       "471                                              NaN   \n",
       "\n",
       "    Have been part of startups in the past?  \\\n",
       "0                                        no   \n",
       "1                                       yes   \n",
       "2                                        no   \n",
       "3                                       yes   \n",
       "4                                        no   \n",
       "..                                      ...   \n",
       "467                                     NaN   \n",
       "468                                     NaN   \n",
       "469                                     NaN   \n",
       "470                                     NaN   \n",
       "471                                     NaN   \n",
       "\n",
       "    Have been part of successful startups in the past?  ...  \\\n",
       "0                                                   no  ...   \n",
       "1                                                  yes  ...   \n",
       "2                                                   no  ...   \n",
       "3                                                  yes  ...   \n",
       "4                                                   no  ...   \n",
       "..                                                 ...  ...   \n",
       "467                                                NaN  ...   \n",
       "468                                                NaN  ...   \n",
       "469                                                NaN  ...   \n",
       "470                                                NaN  ...   \n",
       "471                                                NaN  ...   \n",
       "\n",
       "    Controversial history of founder or co founder  \\\n",
       "0                                               no   \n",
       "1                                               no   \n",
       "2                                               no   \n",
       "3                                               no   \n",
       "4                                               no   \n",
       "..                                             ...   \n",
       "467                                            NaN   \n",
       "468                                            NaN   \n",
       "469                                            NaN   \n",
       "470                                            NaN   \n",
       "471                                            NaN   \n",
       "\n",
       "    Legal risk and intellectual property Client Reputation  \\\n",
       "0                                     no               NaN   \n",
       "1                                    yes            medium   \n",
       "2                                     no               low   \n",
       "3                                     no               low   \n",
       "4                                     no               low   \n",
       "..                                   ...               ...   \n",
       "467                                  NaN               NaN   \n",
       "468                                  NaN               NaN   \n",
       "469                                  NaN               NaN   \n",
       "470                                  NaN               NaN   \n",
       "471                                  NaN               NaN   \n",
       "\n",
       "    Technical proficiencies to analyse and interpret unstructured data  \\\n",
       "0                                                   no                   \n",
       "1                                                  yes                   \n",
       "2                                                  yes                   \n",
       "3                                                   no                   \n",
       "4                                                  yes                   \n",
       "..                                                 ...                   \n",
       "467                                                NaN                   \n",
       "468                                                NaN                   \n",
       "469                                                NaN                   \n",
       "470                                                NaN                   \n",
       "471                                                NaN                   \n",
       "\n",
       "    Solutions offered Invested through global incubation competitions?  \\\n",
       "0                 yes                                               no   \n",
       "1                 yes                                               no   \n",
       "2                 yes                                              yes   \n",
       "3                 yes                                              yes   \n",
       "4                 yes                                               no   \n",
       "..                ...                                              ...   \n",
       "467               NaN                                              NaN   \n",
       "468               NaN                                              NaN   \n",
       "469               NaN                                              NaN   \n",
       "470               NaN                                              NaN   \n",
       "471               NaN                                              NaN   \n",
       "\n",
       "    Disruptiveness of technology  \\\n",
       "0                            low   \n",
       "1                         medium   \n",
       "2                         medium   \n",
       "3                         medium   \n",
       "4                         medium   \n",
       "..                           ...   \n",
       "467                          NaN   \n",
       "468                          NaN   \n",
       "469                          NaN   \n",
       "470                          NaN   \n",
       "471                          NaN   \n",
       "\n",
       "    Survival through recession, based on existence of the company through recession times  \\\n",
       "0                                                  NaN                                      \n",
       "1                                       not applicable                                      \n",
       "2                                       not applicable                                      \n",
       "3                                       not applicable                                      \n",
       "4                                       not applicable                                      \n",
       "..                                                 ...                                      \n",
       "467                                                NaN                                      \n",
       "468                                                NaN                                      \n",
       "469                                                NaN                                      \n",
       "470                                                NaN                                      \n",
       "471                                                NaN                                      \n",
       "\n",
       "    Gartner hype cycle stage Relevance of experience to venture  \n",
       "0                        NaN                                yes  \n",
       "1                     trough                                yes  \n",
       "2                     trough                                yes  \n",
       "3                     trough                                yes  \n",
       "4                        NaN                                yes  \n",
       "..                       ...                                ...  \n",
       "467                      NaN                                NaN  \n",
       "468                      NaN                                NaN  \n",
       "469                      NaN                                NaN  \n",
       "470                      NaN                                NaN  \n",
       "471                      NaN                                NaN  \n",
       "\n",
       "[472 rows x 66 columns]"
      ]
     },
     "execution_count": 19,
     "metadata": {},
     "output_type": "execute_result"
    }
   ],
   "source": [
    "df[categorical]"
   ]
  },
  {
   "cell_type": "code",
   "execution_count": 20,
   "metadata": {},
   "outputs": [],
   "source": [
    "def Categorical_Imputer(columns):\n",
    "    for col in columns:\n",
    "        data = np.array(df[col], dtype=object)\n",
    "        imputer = CategoricalImputer()\n",
    "        df[col] = pd.Series(imputer.fit_transform(data))"
   ]
  },
  {
   "cell_type": "code",
   "execution_count": 21,
   "metadata": {},
   "outputs": [],
   "source": [
    "Categorical_Imputer(categorical)"
   ]
  },
  {
   "cell_type": "code",
   "execution_count": 22,
   "metadata": {
    "scrolled": false
   },
   "outputs": [
    {
     "data": {
      "text/html": [
       "<div>\n",
       "<style scoped>\n",
       "    .dataframe tbody tr th:only-of-type {\n",
       "        vertical-align: middle;\n",
       "    }\n",
       "\n",
       "    .dataframe tbody tr th {\n",
       "        vertical-align: top;\n",
       "    }\n",
       "\n",
       "    .dataframe thead th {\n",
       "        text-align: right;\n",
       "    }\n",
       "</style>\n",
       "<table border=\"1\" class=\"dataframe\">\n",
       "  <thead>\n",
       "    <tr style=\"text-align: right;\">\n",
       "      <th></th>\n",
       "      <th>Short Description of company profile</th>\n",
       "      <th>Industry of company</th>\n",
       "      <th>Focus functions of company</th>\n",
       "      <th>Investors</th>\n",
       "    </tr>\n",
       "  </thead>\n",
       "  <tbody>\n",
       "    <tr>\n",
       "      <th>0</th>\n",
       "      <td>Video distribution</td>\n",
       "      <td>NaN</td>\n",
       "      <td>operation</td>\n",
       "      <td>KPCB Holdings|Draper Fisher Jurvetson (DFJ)|Kl...</td>\n",
       "    </tr>\n",
       "    <tr>\n",
       "      <th>1</th>\n",
       "      <td>NaN</td>\n",
       "      <td>Market Research|Marketing|Crowdfunding</td>\n",
       "      <td>Marketing, sales</td>\n",
       "      <td>NaN</td>\n",
       "    </tr>\n",
       "    <tr>\n",
       "      <th>2</th>\n",
       "      <td>Event Data Analytics API</td>\n",
       "      <td>Analytics|Cloud Computing|Software Development</td>\n",
       "      <td>operations</td>\n",
       "      <td>TechStars|Streamlined Ventures|Amplify Partner...</td>\n",
       "    </tr>\n",
       "    <tr>\n",
       "      <th>3</th>\n",
       "      <td>The most advanced analytics for mobile</td>\n",
       "      <td>Mobile|Analytics</td>\n",
       "      <td>Marketing &amp; Sales</td>\n",
       "      <td>Michael Birch|Max Levchin|Sequoia Capital|Keit...</td>\n",
       "    </tr>\n",
       "    <tr>\n",
       "      <th>4</th>\n",
       "      <td>The Location-Based Marketing Platform</td>\n",
       "      <td>Analytics|Marketing|Enterprise Software</td>\n",
       "      <td>Marketing &amp; Sales</td>\n",
       "      <td>DFJ Frontier|Draper Nexus Ventures|Gil Elbaz|A...</td>\n",
       "    </tr>\n",
       "    <tr>\n",
       "      <th>...</th>\n",
       "      <td>...</td>\n",
       "      <td>...</td>\n",
       "      <td>...</td>\n",
       "      <td>...</td>\n",
       "    </tr>\n",
       "    <tr>\n",
       "      <th>467</th>\n",
       "      <td>BtoB deal site</td>\n",
       "      <td>E-Commerce</td>\n",
       "      <td>NaN</td>\n",
       "      <td>NaN</td>\n",
       "    </tr>\n",
       "    <tr>\n",
       "      <th>468</th>\n",
       "      <td>NaN</td>\n",
       "      <td>NaN</td>\n",
       "      <td>consumer web</td>\n",
       "      <td>NaN</td>\n",
       "    </tr>\n",
       "    <tr>\n",
       "      <th>469</th>\n",
       "      <td>Real Time Social Media Analytics</td>\n",
       "      <td>Analytics|E-Commerce</td>\n",
       "      <td>CAMPAIGN MANAGEMENT</td>\n",
       "      <td>NaN</td>\n",
       "    </tr>\n",
       "    <tr>\n",
       "      <th>470</th>\n",
       "      <td>Social Media Publishing and Analytics</td>\n",
       "      <td>Analytics|Marketing</td>\n",
       "      <td>SOCIALMEDIA CAMPAIGN</td>\n",
       "      <td>NaN</td>\n",
       "    </tr>\n",
       "    <tr>\n",
       "      <th>471</th>\n",
       "      <td>Customized community health forecasting</td>\n",
       "      <td>Analytics|Healthcare</td>\n",
       "      <td>DATA VISUALIZATION</td>\n",
       "      <td>David Schafer|Bert Navarrete</td>\n",
       "    </tr>\n",
       "  </tbody>\n",
       "</table>\n",
       "<p>472 rows × 4 columns</p>\n",
       "</div>"
      ],
      "text/plain": [
       "        Short Description of company profile  \\\n",
       "0                         Video distribution   \n",
       "1                                        NaN   \n",
       "2                   Event Data Analytics API   \n",
       "3     The most advanced analytics for mobile   \n",
       "4      The Location-Based Marketing Platform   \n",
       "..                                       ...   \n",
       "467                           BtoB deal site   \n",
       "468                                      NaN   \n",
       "469         Real Time Social Media Analytics   \n",
       "470    Social Media Publishing and Analytics   \n",
       "471  Customized community health forecasting   \n",
       "\n",
       "                                Industry of company  \\\n",
       "0                                               NaN   \n",
       "1            Market Research|Marketing|Crowdfunding   \n",
       "2    Analytics|Cloud Computing|Software Development   \n",
       "3                                  Mobile|Analytics   \n",
       "4           Analytics|Marketing|Enterprise Software   \n",
       "..                                              ...   \n",
       "467                                      E-Commerce   \n",
       "468                                             NaN   \n",
       "469                            Analytics|E-Commerce   \n",
       "470                             Analytics|Marketing   \n",
       "471                            Analytics|Healthcare   \n",
       "\n",
       "    Focus functions of company  \\\n",
       "0                    operation   \n",
       "1             Marketing, sales   \n",
       "2                   operations   \n",
       "3            Marketing & Sales   \n",
       "4            Marketing & Sales   \n",
       "..                         ...   \n",
       "467                        NaN   \n",
       "468               consumer web   \n",
       "469        CAMPAIGN MANAGEMENT   \n",
       "470       SOCIALMEDIA CAMPAIGN   \n",
       "471         DATA VISUALIZATION   \n",
       "\n",
       "                                             Investors  \n",
       "0    KPCB Holdings|Draper Fisher Jurvetson (DFJ)|Kl...  \n",
       "1                                                  NaN  \n",
       "2    TechStars|Streamlined Ventures|Amplify Partner...  \n",
       "3    Michael Birch|Max Levchin|Sequoia Capital|Keit...  \n",
       "4    DFJ Frontier|Draper Nexus Ventures|Gil Elbaz|A...  \n",
       "..                                                 ...  \n",
       "467                                                NaN  \n",
       "468                                                NaN  \n",
       "469                                                NaN  \n",
       "470                                                NaN  \n",
       "471                       David Schafer|Bert Navarrete  \n",
       "\n",
       "[472 rows x 4 columns]"
      ]
     },
     "execution_count": 22,
     "metadata": {},
     "output_type": "execute_result"
    }
   ],
   "source": [
    "cat_num = numerical + categorical\n",
    "text_data = [elem for elem in (df.columns).tolist() if (elem not in cat_num)]\n",
    "df[text_data]"
   ]
  },
  {
   "cell_type": "markdown",
   "metadata": {},
   "source": [
    "- For the below results I just substracted minimum values from Internet Activity Score and Employees count MoM change because for certain purposes later on application it creates errors with negative values. At the end of the day the data is transformed into some numbers starting 0. Even if it is transformed and we change its bias, still the variance remains the same, which means the fitting of the models later on is not going to be effected! Because for example From \"Internet Activity Score\" I do not see any point to have negative score. Maybe a company that is not active at all, should have score 0 and why negative. "
   ]
  },
  {
   "cell_type": "code",
   "execution_count": 23,
   "metadata": {},
   "outputs": [],
   "source": [
    "minVal = df['Internet Activity Score'].min()\n",
    "df['Internet Activity Score'] += (-1) * minVal\n",
    "\n",
    "minVal = df['Employees count MoM change'].min()\n",
    "df['Employees count MoM change'] += (-1) * minVal"
   ]
  },
  {
   "cell_type": "code",
   "execution_count": 24,
   "metadata": {
    "scrolled": false
   },
   "outputs": [
    {
     "name": "stdout",
     "output_type": "stream",
     "text": [
      "0.0\n",
      "0.0\n"
     ]
    }
   ],
   "source": [
    "print(min(df['Employees count MoM change']))\n",
    "print(min(df['Internet Activity Score']))"
   ]
  },
  {
   "cell_type": "markdown",
   "metadata": {},
   "source": [
    "- Numerical Imputations"
   ]
  },
  {
   "cell_type": "code",
   "execution_count": 25,
   "metadata": {
    "scrolled": true
   },
   "outputs": [
    {
     "data": {
      "image/png": "[encoded data removed]",
      "text/plain": [
       "<Figure size 432x288 with 1 Axes>"
      ]
     },
     "metadata": {
      "needs_background": "light"
     },
     "output_type": "display_data"
    },
    {
     "data": {
      "image/png": "[encoded data removed]",
      "text/plain": [
       "<Figure size 432x288 with 1 Axes>"
      ]
     },
     "metadata": {
      "needs_background": "light"
     },
     "output_type": "display_data"
    },
    {
     "data": {
      "image/png": "[encoded data removed]",
      "text/plain": [
       "<Figure size 432x288 with 1 Axes>"
      ]
     },
     "metadata": {
      "needs_background": "light"
     },
     "output_type": "display_data"
    },
    {
     "data": {
      "image/png": "[encoded data removed]",
      "text/plain": [
       "<Figure size 432x288 with 1 Axes>"
      ]
     },
     "metadata": {
      "needs_background": "light"
     },
     "output_type": "display_data"
    },
    {
     "data": {
      "image/png": "[encoded data removed]",
      "text/plain": [
       "<Figure size 432x288 with 1 Axes>"
      ]
     },
     "metadata": {
      "needs_background": "light"
     },
     "output_type": "display_data"
    },
    {
     "data": {
      "image/png": "[encoded data removed]",
      "text/plain": [
       "<Figure size 432x288 with 1 Axes>"
      ]
     },
     "metadata": {
      "needs_background": "light"
     },
     "output_type": "display_data"
    },
    {
     "data": {
      "image/png": "[encoded data removed]",
      "text/plain": [
       "<Figure size 432x288 with 1 Axes>"
      ]
     },
     "metadata": {
      "needs_background": "light"
     },
     "output_type": "display_data"
    },
    {
     "data": {
      "image/png": "[encoded data removed]",
      "text/plain": [
       "<Figure size 432x288 with 1 Axes>"
      ]
     },
     "metadata": {
      "needs_background": "light"
     },
     "output_type": "display_data"
    },
    {
     "data": {
      "image/png": "[encoded data removed]",
      "text/plain": [
       "<Figure size 432x288 with 1 Axes>"
      ]
     },
     "metadata": {
      "needs_background": "light"
     },
     "output_type": "display_data"
    },
    {
     "data": {
      "image/png": "[encoded data removed]",
      "text/plain": [
       "<Figure size 432x288 with 1 Axes>"
      ]
     },
     "metadata": {
      "needs_background": "light"
     },
     "output_type": "display_data"
    },
    {
     "data": {
      "image/png": "[encoded data removed]",
      "text/plain": [
       "<Figure size 432x288 with 1 Axes>"
      ]
     },
     "metadata": {
      "needs_background": "light"
     },
     "output_type": "display_data"
    },
    {
     "data": {
      "image/png": "[encoded data removed]",
      "text/plain": [
       "<Figure size 432x288 with 1 Axes>"
      ]
     },
     "metadata": {
      "needs_background": "light"
     },
     "output_type": "display_data"
    },
    {
     "data": {
      "image/png": "[encoded data removed]",
      "text/plain": [
       "<Figure size 432x288 with 1 Axes>"
      ]
     },
     "metadata": {
      "needs_background": "light"
     },
     "output_type": "display_data"
    },
    {
     "data": {
      "image/png": "[encoded data removed]",
      "text/plain": [
       "<Figure size 432x288 with 1 Axes>"
      ]
     },
     "metadata": {
      "needs_background": "light"
     },
     "output_type": "display_data"
    },
    {
     "data": {
      "image/png": "[encoded data removed]",
      "text/plain": [
       "<Figure size 432x288 with 1 Axes>"
      ]
     },
     "metadata": {
      "needs_background": "light"
     },
     "output_type": "display_data"
    },
    {
     "data": {
      "image/png": "[encoded data removed]",
      "text/plain": [
       "<Figure size 432x288 with 1 Axes>"
      ]
     },
     "metadata": {
      "needs_background": "light"
     },
     "output_type": "display_data"
    },
    {
     "data": {
      "image/png": "[encoded data removed]",
      "text/plain": [
       "<Figure size 432x288 with 1 Axes>"
      ]
     },
     "metadata": {
      "needs_background": "light"
     },
     "output_type": "display_data"
    },
    {
     "data": {
      "image/png": "[encoded data removed]",
      "text/plain": [
       "<Figure size 432x288 with 1 Axes>"
      ]
     },
     "metadata": {
      "needs_background": "light"
     },
     "output_type": "display_data"
    },
    {
     "data": {
      "image/png": "[encoded data removed]",
      "text/plain": [
       "<Figure size 432x288 with 1 Axes>"
      ]
     },
     "metadata": {
      "needs_background": "light"
     },
     "output_type": "display_data"
    },
    {
     "data": {
      "image/png": "[encoded data removed]",
      "text/plain": [
       "<Figure size 432x288 with 1 Axes>"
      ]
     },
     "metadata": {
      "needs_background": "light"
     },
     "output_type": "display_data"
    },
    {
     "data": {
      "image/png": "[encoded data removed]",
      "text/plain": [
       "<Figure size 432x288 with 1 Axes>"
      ]
     },
     "metadata": {
      "needs_background": "light"
     },
     "output_type": "display_data"
    },
    {
     "data": {
      "image/png": "[encoded data removed]",
      "text/plain": [
       "<Figure size 432x288 with 1 Axes>"
      ]
     },
     "metadata": {
      "needs_background": "light"
     },
     "output_type": "display_data"
    },
    {
     "data": {
      "image/png": "[encoded data removed]",
      "text/plain": [
       "<Figure size 432x288 with 1 Axes>"
      ]
     },
     "metadata": {
      "needs_background": "light"
     },
     "output_type": "display_data"
    },
    {
     "data": {
      "image/png": "[encoded data removed]",
      "text/plain": [
       "<Figure size 432x288 with 1 Axes>"
      ]
     },
     "metadata": {
      "needs_background": "light"
     },
     "output_type": "display_data"
    },
    {
     "data": {
      "image/png": "[encoded data removed]",
      "text/plain": [
       "<Figure size 432x288 with 1 Axes>"
      ]
     },
     "metadata": {
      "needs_background": "light"
     },
     "output_type": "display_data"
    },
    {
     "data": {
      "image/png": "[encoded data removed]",
      "text/plain": [
       "<Figure size 432x288 with 1 Axes>"
      ]
     },
     "metadata": {
      "needs_background": "light"
     },
     "output_type": "display_data"
    },
    {
     "data": {
      "image/png": "[encoded data removed]",
      "text/plain": [
       "<Figure size 432x288 with 1 Axes>"
      ]
     },
     "metadata": {
      "needs_background": "light"
     },
     "output_type": "display_data"
    },
    {
     "data": {
      "image/png": "[encoded data removed]",
      "text/plain": [
       "<Figure size 432x288 with 1 Axes>"
      ]
     },
     "metadata": {
      "needs_background": "light"
     },
     "output_type": "display_data"
    },
    {
     "data": {
      "image/png": "[encoded data removed]",
      "text/plain": [
       "<Figure size 432x288 with 1 Axes>"
      ]
     },
     "metadata": {
      "needs_background": "light"
     },
     "output_type": "display_data"
    },
    {
     "data": {
      "image/png": "[encoded data removed]",
      "text/plain": [
       "<Figure size 432x288 with 1 Axes>"
      ]
     },
     "metadata": {
      "needs_background": "light"
     },
     "output_type": "display_data"
    },
    {
     "data": {
      "image/png": "[encoded data removed]",
      "text/plain": [
       "<Figure size 432x288 with 1 Axes>"
      ]
     },
     "metadata": {
      "needs_background": "light"
     },
     "output_type": "display_data"
    },
    {
     "data": {
      "image/png": "[encoded data removed]",
      "text/plain": [
       "<Figure size 432x288 with 1 Axes>"
      ]
     },
     "metadata": {
      "needs_background": "light"
     },
     "output_type": "display_data"
    },
    {
     "data": {
      "image/png": "[encoded data removed]",
      "text/plain": [
       "<Figure size 432x288 with 1 Axes>"
      ]
     },
     "metadata": {
      "needs_background": "light"
     },
     "output_type": "display_data"
    },
    {
     "data": {
      "image/png": "[encoded data removed]",
      "text/plain": [
       "<Figure size 432x288 with 1 Axes>"
      ]
     },
     "metadata": {
      "needs_background": "light"
     },
     "output_type": "display_data"
    },
    {
     "data": {
      "image/png": "[encoded data removed]",
      "text/plain": [
       "<Figure size 432x288 with 1 Axes>"
      ]
     },
     "metadata": {
      "needs_background": "light"
     },
     "output_type": "display_data"
    },
    {
     "data": {
      "image/png": "[encoded data removed]",
      "text/plain": [
       "<Figure size 432x288 with 1 Axes>"
      ]
     },
     "metadata": {
      "needs_background": "light"
     },
     "output_type": "display_data"
    },
    {
     "data": {
      "image/png": "[encoded data removed]",
      "text/plain": [
       "<Figure size 432x288 with 1 Axes>"
      ]
     },
     "metadata": {
      "needs_background": "light"
     },
     "output_type": "display_data"
    },
    {
     "data": {
      "image/png": "[encoded data removed]",
      "text/plain": [
       "<Figure size 432x288 with 1 Axes>"
      ]
     },
     "metadata": {
      "needs_background": "light"
     },
     "output_type": "display_data"
    },
    {
     "data": {
      "image/png": "[encoded data removed]",
      "text/plain": [
       "<Figure size 432x288 with 1 Axes>"
      ]
     },
     "metadata": {
      "needs_background": "light"
     },
     "output_type": "display_data"
    },
    {
     "data": {
      "image/png": "[encoded data removed]",
      "text/plain": [
       "<Figure size 432x288 with 1 Axes>"
      ]
     },
     "metadata": {
      "needs_background": "light"
     },
     "output_type": "display_data"
    },
    {
     "data": {
      "image/png": "[encoded data removed]",
      "text/plain": [
       "<Figure size 432x288 with 1 Axes>"
      ]
     },
     "metadata": {
      "needs_background": "light"
     },
     "output_type": "display_data"
    },
    {
     "data": {
      "image/png": "[encoded data removed]",
      "text/plain": [
       "<Figure size 432x288 with 1 Axes>"
      ]
     },
     "metadata": {
      "needs_background": "light"
     },
     "output_type": "display_data"
    },
    {
     "data": {
      "image/png": "[encoded data removed]",
      "text/plain": [
       "<Figure size 432x288 with 1 Axes>"
      ]
     },
     "metadata": {
      "needs_background": "light"
     },
     "output_type": "display_data"
    },
    {
     "data": {
      "image/png": "[encoded data removed]",
      "text/plain": [
       "<Figure size 432x288 with 1 Axes>"
      ]
     },
     "metadata": {
      "needs_background": "light"
     },
     "output_type": "display_data"
    },
    {
     "data": {
      "image/png": "[encoded data removed]",
      "text/plain": [
       "<Figure size 432x288 with 1 Axes>"
      ]
     },
     "metadata": {
      "needs_background": "light"
     },
     "output_type": "display_data"
    },
    {
     "data": {
      "image/png": "[encoded data removed]",
      "text/plain": [
       "<Figure size 432x288 with 1 Axes>"
      ]
     },
     "metadata": {
      "needs_background": "light"
     },
     "output_type": "display_data"
    }
   ],
   "source": [
    "for col in numerical:\n",
    "    sns.boxplot(x=df[col])\n",
    "    plt.show()"
   ]
  },
  {
   "cell_type": "markdown",
   "metadata": {},
   "source": [
    "From boxplots it is very visible that most of the observations have very clear outliers and those outliers will be dangerous for the future of our Imputation, as using Imputation strategy as mean will be not so good. With so much outliers it is better to use Median as the Strategy of Imputation. I will later include this median-part usage in ColumnTransformer when I will use Imputation strategy as Median."
   ]
  },
  {
   "cell_type": "markdown",
   "metadata": {},
   "source": [
    "- Imputing text_data columns"
   ]
  },
  {
   "cell_type": "code",
   "execution_count": 26,
   "metadata": {},
   "outputs": [],
   "source": [
    "# Cleaning the texts\n",
    "full_corpus = []\n",
    "for col in text_data:\n",
    "    corpus = []\n",
    "    for i, string in enumerate(df[col]):\n",
    "        if (type(string) != str):\n",
    "            string = 'nan'\n",
    "        else:\n",
    "            review = re.sub('[^a-zA-Z]', ' ', string)\n",
    "            review = review.lower()\n",
    "            review = review.split()\n",
    "            ps = PorterStemmer()\n",
    "            review = [\n",
    "                ps.stem(word) for word in review\n",
    "                if not word in set(stopwords.words('english'))\n",
    "            ]\n",
    "            #             review = ' '.join(review)\n",
    "            corpus.append(review)\n",
    "    full_corpus.append(corpus)"
   ]
  },
  {
   "cell_type": "code",
   "execution_count": 27,
   "metadata": {},
   "outputs": [
    {
     "name": "stdout",
     "output_type": "stream",
     "text": [
      "59 max_elem\n",
      "most_frequent_name: analyt\n",
      "198 max_elem\n",
      "most_frequent_name: analyt\n",
      "98 max_elem\n",
      "most_frequent_name: market\n",
      "359 max_elem\n",
      "most_frequent_name: ventur\n"
     ]
    },
    {
     "data": {
      "image/png": "[encoded data removed]",
      "text/plain": [
       "<Figure size 432x288 with 1 Axes>"
      ]
     },
     "metadata": {
      "needs_background": "light"
     },
     "output_type": "display_data"
    },
    {
     "data": {
      "image/png": "[encoded data removed]",
      "text/plain": [
       "<Figure size 432x288 with 1 Axes>"
      ]
     },
     "metadata": {
      "needs_background": "light"
     },
     "output_type": "display_data"
    },
    {
     "data": {
      "image/png": "[encoded data removed]",
      "text/plain": [
       "<Figure size 432x288 with 1 Axes>"
      ]
     },
     "metadata": {
      "needs_background": "light"
     },
     "output_type": "display_data"
    },
    {
     "data": {
      "image/png": "[encoded data removed]",
      "text/plain": [
       "<Figure size 432x288 with 1 Axes>"
      ]
     },
     "metadata": {
      "needs_background": "light"
     },
     "output_type": "display_data"
    }
   ],
   "source": [
    "most_frequent_words = []\n",
    "for i in range(4):\n",
    "    independent = []\n",
    "    for row in full_corpus[i]:\n",
    "        for elem in row:\n",
    "            independent.append((elem))\n",
    "\n",
    "    names, counts = np.unique(independent, return_counts=True)\n",
    "    max_elem = max(counts)\n",
    "    print(max_elem, 'max_elem')\n",
    "    word = names[counts.tolist().index(max_elem)]\n",
    "    most_frequent_words.append(word)\n",
    "    print('most_frequent_name:', word)\n",
    "    # groupedByNames\n",
    "    df_grouped = pd.DataFrame({'lab': names, 'val': counts})\n",
    "    ax = df_grouped.plot.bar(x='lab', y='val', rot=0)"
   ]
  },
  {
   "cell_type": "markdown",
   "metadata": {},
   "source": [
    "- From bar plots it is seen that we can substitute the first most frequent values to the missing data, because there are very visible high repetitions of the first most frequent words"
   ]
  },
  {
   "cell_type": "code",
   "execution_count": 28,
   "metadata": {},
   "outputs": [
    {
     "data": {
      "text/plain": [
       "['analyt', 'analyt', 'market', 'ventur']"
      ]
     },
     "execution_count": 28,
     "metadata": {},
     "output_type": "execute_result"
    }
   ],
   "source": [
    "most_frequent_words  # in text_data"
   ]
  },
  {
   "cell_type": "code",
   "execution_count": 29,
   "metadata": {
    "scrolled": true
   },
   "outputs": [],
   "source": [
    "# Imputation of heterogenoeous data (text_data columns)\n",
    "for i, column in enumerate(text_data):\n",
    "    for j, elem in enumerate(df[column]):\n",
    "        if pd.isnull(elem):\n",
    "            df[column][j] = most_frequent_words[i]"
   ]
  },
  {
   "cell_type": "code",
   "execution_count": 30,
   "metadata": {},
   "outputs": [
    {
     "data": {
      "text/html": [
       "<div>\n",
       "<style scoped>\n",
       "    .dataframe tbody tr th:only-of-type {\n",
       "        vertical-align: middle;\n",
       "    }\n",
       "\n",
       "    .dataframe tbody tr th {\n",
       "        vertical-align: top;\n",
       "    }\n",
       "\n",
       "    .dataframe thead th {\n",
       "        text-align: right;\n",
       "    }\n",
       "</style>\n",
       "<table border=\"1\" class=\"dataframe\">\n",
       "  <thead>\n",
       "    <tr style=\"text-align: right;\">\n",
       "      <th></th>\n",
       "      <th>Short Description of company profile</th>\n",
       "      <th>Industry of company</th>\n",
       "      <th>Focus functions of company</th>\n",
       "      <th>Investors</th>\n",
       "    </tr>\n",
       "  </thead>\n",
       "  <tbody>\n",
       "    <tr>\n",
       "      <th>0</th>\n",
       "      <td>Video distribution</td>\n",
       "      <td>analyt</td>\n",
       "      <td>operation</td>\n",
       "      <td>KPCB Holdings|Draper Fisher Jurvetson (DFJ)|Kl...</td>\n",
       "    </tr>\n",
       "    <tr>\n",
       "      <th>1</th>\n",
       "      <td>analyt</td>\n",
       "      <td>Market Research|Marketing|Crowdfunding</td>\n",
       "      <td>Marketing, sales</td>\n",
       "      <td>ventur</td>\n",
       "    </tr>\n",
       "    <tr>\n",
       "      <th>2</th>\n",
       "      <td>Event Data Analytics API</td>\n",
       "      <td>Analytics|Cloud Computing|Software Development</td>\n",
       "      <td>operations</td>\n",
       "      <td>TechStars|Streamlined Ventures|Amplify Partner...</td>\n",
       "    </tr>\n",
       "    <tr>\n",
       "      <th>3</th>\n",
       "      <td>The most advanced analytics for mobile</td>\n",
       "      <td>Mobile|Analytics</td>\n",
       "      <td>Marketing &amp; Sales</td>\n",
       "      <td>Michael Birch|Max Levchin|Sequoia Capital|Keit...</td>\n",
       "    </tr>\n",
       "    <tr>\n",
       "      <th>4</th>\n",
       "      <td>The Location-Based Marketing Platform</td>\n",
       "      <td>Analytics|Marketing|Enterprise Software</td>\n",
       "      <td>Marketing &amp; Sales</td>\n",
       "      <td>DFJ Frontier|Draper Nexus Ventures|Gil Elbaz|A...</td>\n",
       "    </tr>\n",
       "    <tr>\n",
       "      <th>...</th>\n",
       "      <td>...</td>\n",
       "      <td>...</td>\n",
       "      <td>...</td>\n",
       "      <td>...</td>\n",
       "    </tr>\n",
       "    <tr>\n",
       "      <th>467</th>\n",
       "      <td>BtoB deal site</td>\n",
       "      <td>E-Commerce</td>\n",
       "      <td>market</td>\n",
       "      <td>ventur</td>\n",
       "    </tr>\n",
       "    <tr>\n",
       "      <th>468</th>\n",
       "      <td>analyt</td>\n",
       "      <td>analyt</td>\n",
       "      <td>consumer web</td>\n",
       "      <td>ventur</td>\n",
       "    </tr>\n",
       "    <tr>\n",
       "      <th>469</th>\n",
       "      <td>Real Time Social Media Analytics</td>\n",
       "      <td>Analytics|E-Commerce</td>\n",
       "      <td>CAMPAIGN MANAGEMENT</td>\n",
       "      <td>ventur</td>\n",
       "    </tr>\n",
       "    <tr>\n",
       "      <th>470</th>\n",
       "      <td>Social Media Publishing and Analytics</td>\n",
       "      <td>Analytics|Marketing</td>\n",
       "      <td>SOCIALMEDIA CAMPAIGN</td>\n",
       "      <td>ventur</td>\n",
       "    </tr>\n",
       "    <tr>\n",
       "      <th>471</th>\n",
       "      <td>Customized community health forecasting</td>\n",
       "      <td>Analytics|Healthcare</td>\n",
       "      <td>DATA VISUALIZATION</td>\n",
       "      <td>David Schafer|Bert Navarrete</td>\n",
       "    </tr>\n",
       "  </tbody>\n",
       "</table>\n",
       "<p>472 rows × 4 columns</p>\n",
       "</div>"
      ],
      "text/plain": [
       "        Short Description of company profile  \\\n",
       "0                         Video distribution   \n",
       "1                                     analyt   \n",
       "2                   Event Data Analytics API   \n",
       "3     The most advanced analytics for mobile   \n",
       "4      The Location-Based Marketing Platform   \n",
       "..                                       ...   \n",
       "467                           BtoB deal site   \n",
       "468                                   analyt   \n",
       "469         Real Time Social Media Analytics   \n",
       "470    Social Media Publishing and Analytics   \n",
       "471  Customized community health forecasting   \n",
       "\n",
       "                                Industry of company  \\\n",
       "0                                            analyt   \n",
       "1            Market Research|Marketing|Crowdfunding   \n",
       "2    Analytics|Cloud Computing|Software Development   \n",
       "3                                  Mobile|Analytics   \n",
       "4           Analytics|Marketing|Enterprise Software   \n",
       "..                                              ...   \n",
       "467                                      E-Commerce   \n",
       "468                                          analyt   \n",
       "469                            Analytics|E-Commerce   \n",
       "470                             Analytics|Marketing   \n",
       "471                            Analytics|Healthcare   \n",
       "\n",
       "    Focus functions of company  \\\n",
       "0                    operation   \n",
       "1             Marketing, sales   \n",
       "2                   operations   \n",
       "3            Marketing & Sales   \n",
       "4            Marketing & Sales   \n",
       "..                         ...   \n",
       "467                     market   \n",
       "468               consumer web   \n",
       "469        CAMPAIGN MANAGEMENT   \n",
       "470       SOCIALMEDIA CAMPAIGN   \n",
       "471         DATA VISUALIZATION   \n",
       "\n",
       "                                             Investors  \n",
       "0    KPCB Holdings|Draper Fisher Jurvetson (DFJ)|Kl...  \n",
       "1                                               ventur  \n",
       "2    TechStars|Streamlined Ventures|Amplify Partner...  \n",
       "3    Michael Birch|Max Levchin|Sequoia Capital|Keit...  \n",
       "4    DFJ Frontier|Draper Nexus Ventures|Gil Elbaz|A...  \n",
       "..                                                 ...  \n",
       "467                                             ventur  \n",
       "468                                             ventur  \n",
       "469                                             ventur  \n",
       "470                                             ventur  \n",
       "471                       David Schafer|Bert Navarrete  \n",
       "\n",
       "[472 rows x 4 columns]"
      ]
     },
     "execution_count": 30,
     "metadata": {},
     "output_type": "execute_result"
    }
   ],
   "source": [
    "df[text_data]"
   ]
  },
  {
   "cell_type": "markdown",
   "metadata": {},
   "source": [
    "# Parameter Tuning of different classifiers"
   ]
  },
  {
   "cell_type": "code",
   "execution_count": 31,
   "metadata": {},
   "outputs": [],
   "source": [
    "NAME_MIN_DF = 3\n",
    "\n",
    "numeric_features = numerical\n",
    "categorical_features = categorical[1:]\n",
    "group_features = text_data[1:]\n",
    "\n",
    "numeric_transformer = Pipeline(\n",
    "    steps=[('imputer',\n",
    "            SimpleImputer(strategy='median')), ('scaler', StandardScaler())])\n",
    "\n",
    "categorical_transformer = Pipeline(\n",
    "    steps=[('imputer', SimpleImputer(strategy='constant')\n",
    "            ), ('onehot', OneHotEncoder(handle_unknown='ignore'))])\n",
    "\n",
    "ngram_transformer = TfidfVectorizer(stop_words='english', ngram_range=(1, 3))"
   ]
  },
  {
   "cell_type": "code",
   "execution_count": 32,
   "metadata": {},
   "outputs": [],
   "source": [
    "preprocessor = ColumnTransformer(transformers=[\n",
    "    ('num', numeric_transformer, numeric_features),\n",
    "    ('cat', categorical_transformer, categorical_features),\n",
    "    ('description', ngram_transformer, 'Short Description of company profile'),\n",
    "    ('grouping1', CountVectorizer(), 'Industry of company'),\n",
    "    ('grouping2', CountVectorizer(), 'Focus functions of company'),\n",
    "    ('grouping3', CountVectorizer(min_df=NAME_MIN_DF), 'Investors'),\n",
    "],\n",
    "                                 remainder='passthrough')"
   ]
  },
  {
   "cell_type": "code",
   "execution_count": 33,
   "metadata": {},
   "outputs": [],
   "source": [
    "le = preprocessing.LabelEncoder()\n",
    "le.fit(df['Dependent-Company Status'])\n",
    "y = le.transform(df['Dependent-Company Status'])\n",
    "\n",
    "X = df[numeric_features + categorical_features + text_data]"
   ]
  },
  {
   "cell_type": "code",
   "execution_count": 34,
   "metadata": {},
   "outputs": [],
   "source": [
    "# ExtraTreesClassifier parameter tuning\n",
    "params = [{\n",
    "    \"ExtraTreesClassifier\": {\n",
    "        'n_estimators': [100, 200, 250],\n",
    "        'criterion': ['entropy', 'gini'],\n",
    "        'max_features': ['auto', 'sqrt'],\n",
    "        'min_samples_split': [2, 5, 10]\n",
    "    }\n",
    "}, {\n",
    "    'LogisticRegression': {\n",
    "        'C': [0.001, 0.01, 0.1, 1, 10, 100, 1000]\n",
    "    }\n",
    "}, {\n",
    "    'DecisionTreeClassifier': {\n",
    "        'max_leaf_nodes': list(range(2, 50)),\n",
    "        'min_samples_split': [2, 3, 4]\n",
    "    }\n",
    "}, {\n",
    "    'RandomForestClassifier': {\n",
    "        'max_features': ['auto', 'sqrt', 'log2'],\n",
    "        'max_depth': [4, 5, 6, 7],\n",
    "        'criterion': ['gini', 'entropy']\n",
    "    }\n",
    "}, {\n",
    "    \"KNeighborsClassifier\": {\n",
    "        'n_neighbors': list(range(1, 20)),\n",
    "        'leaf_size': list(range(1, 10)),\n",
    "        'algorithm': ['auto', 'kd_tree'],\n",
    "        'weights': [\"uniform\", \"distance\"]\n",
    "    }\n",
    "}, {\n",
    "    \"SVC\": {\n",
    "        'C': np.linspace(0.1, 100, 10),\n",
    "        'gamma': np.linspace(0.0001, 1, 30)\n",
    "    }\n",
    "}]\n",
    "\n",
    "classifier_names = [\n",
    "    'ExtraTreesClassifier', 'LogisticRegression', 'DecisionTreeClassifier',\n",
    "    'RandomForestClassifier', 'KNeighborsClassifier', 'SVC'\n",
    "]\n",
    "classifiers = [\n",
    "    ExtraTreesClassifier(random_state=0),\n",
    "    LogisticRegression(random_state=0),\n",
    "    DecisionTreeClassifier(random_state=0),\n",
    "    RandomForestClassifier(random_state=0),\n",
    "    KNeighborsClassifier(),\n",
    "    SVC(kernel=\"rbf\",random_state=0)\n",
    "]"
   ]
  },
  {
   "cell_type": "code",
   "execution_count": 35,
   "metadata": {},
   "outputs": [],
   "source": [
    "X_train, X_test, y_train, y_test = train_test_split(X,\n",
    "                                                    y,\n",
    "                                                    test_size=0.2,\n",
    "                                                    random_state=0)"
   ]
  },
  {
   "cell_type": "code",
   "execution_count": 36,
   "metadata": {
    "scrolled": true
   },
   "outputs": [],
   "source": [
    "accuracies = []\n",
    "best_estimators = []\n",
    "for classifier, name, param in zip(classifiers, classifier_names, params):\n",
    "    gridSearch = GridSearchCV(estimator=classifier,\n",
    "                              param_grid=param[name],\n",
    "                              scoring='accuracy',\n",
    "                              cv=5,\n",
    "                              verbose=0,\n",
    "                              n_jobs=-1)\n",
    "\n",
    "    clf_best = Pipeline(steps=[('preprocessor',\n",
    "                                preprocessor), ('model', gridSearch)])\n",
    "\n",
    "    clf_best.fit(X_train, y_train)\n",
    "\n",
    "    accuracies.append([name, gridSearch.best_score_])\n",
    "    best_estimators.append([name, gridSearch.best_estimator_])\n",
    "# best_estimators"
   ]
  },
  {
   "cell_type": "code",
   "execution_count": 37,
   "metadata": {
    "scrolled": false
   },
   "outputs": [
    {
     "data": {
      "text/html": [
       "<div>\n",
       "<style scoped>\n",
       "    .dataframe tbody tr th:only-of-type {\n",
       "        vertical-align: middle;\n",
       "    }\n",
       "\n",
       "    .dataframe tbody tr th {\n",
       "        vertical-align: top;\n",
       "    }\n",
       "\n",
       "    .dataframe thead th {\n",
       "        text-align: right;\n",
       "    }\n",
       "</style>\n",
       "<table border=\"1\" class=\"dataframe\">\n",
       "  <thead>\n",
       "    <tr style=\"text-align: right;\">\n",
       "      <th></th>\n",
       "      <th>Classifier</th>\n",
       "      <th>Accuracy</th>\n",
       "    </tr>\n",
       "  </thead>\n",
       "  <tbody>\n",
       "    <tr>\n",
       "      <th>0</th>\n",
       "      <td>ExtraTreesClassifier</td>\n",
       "      <td>0.8913684210526316</td>\n",
       "    </tr>\n",
       "    <tr>\n",
       "      <th>1</th>\n",
       "      <td>LogisticRegression</td>\n",
       "      <td>0.8860701754385965</td>\n",
       "    </tr>\n",
       "    <tr>\n",
       "      <th>2</th>\n",
       "      <td>DecisionTreeClassifier</td>\n",
       "      <td>0.8992280701754387</td>\n",
       "    </tr>\n",
       "    <tr>\n",
       "      <th>3</th>\n",
       "      <td>RandomForestClassifier</td>\n",
       "      <td>0.8913333333333334</td>\n",
       "    </tr>\n",
       "    <tr>\n",
       "      <th>4</th>\n",
       "      <td>KNeighborsClassifier</td>\n",
       "      <td>0.7217894736842105</td>\n",
       "    </tr>\n",
       "    <tr>\n",
       "      <th>5</th>\n",
       "      <td>SVC</td>\n",
       "      <td>0.891263157894737</td>\n",
       "    </tr>\n",
       "  </tbody>\n",
       "</table>\n",
       "</div>"
      ],
      "text/plain": [
       "               Classifier            Accuracy\n",
       "0    ExtraTreesClassifier  0.8913684210526316\n",
       "1      LogisticRegression  0.8860701754385965\n",
       "2  DecisionTreeClassifier  0.8992280701754387\n",
       "3  RandomForestClassifier  0.8913333333333334\n",
       "4    KNeighborsClassifier  0.7217894736842105\n",
       "5                     SVC   0.891263157894737"
      ]
     },
     "execution_count": 37,
     "metadata": {},
     "output_type": "execute_result"
    }
   ],
   "source": [
    "accuracy_df = pd.DataFrame(np.array(accuracies),\n",
    "                           columns=['Classifier', \"Accuracy\"])\n",
    "accuracy_df"
   ]
  },
  {
   "cell_type": "markdown",
   "metadata": {},
   "source": [
    "# Training"
   ]
  },
  {
   "cell_type": "code",
   "execution_count": 38,
   "metadata": {},
   "outputs": [
    {
     "data": {
      "text/plain": [
       "ExtraTreesClassifier(bootstrap=False, ccp_alpha=0.0, class_weight=None,\n",
       "                     criterion='entropy', max_depth=None, max_features='auto',\n",
       "                     max_leaf_nodes=None, max_samples=None,\n",
       "                     min_impurity_decrease=0.0, min_impurity_split=None,\n",
       "                     min_samples_leaf=1, min_samples_split=2,\n",
       "                     min_weight_fraction_leaf=0.0, n_estimators=250,\n",
       "                     n_jobs=None, oob_score=False, random_state=0, verbose=0,\n",
       "                     warm_start=False)"
      ]
     },
     "execution_count": 38,
     "metadata": {},
     "output_type": "execute_result"
    }
   ],
   "source": [
    "optimalModel = best_estimators[0][1]\n",
    "optimalModel"
   ]
  },
  {
   "cell_type": "code",
   "execution_count": 41,
   "metadata": {
    "scrolled": false
   },
   "outputs": [
    {
     "name": "stdout",
     "output_type": "stream",
     "text": [
      "model score on test: 0.926\n",
      "model score on train: 1.000\n"
     ]
    }
   ],
   "source": [
    "clf = Pipeline(steps=[('preprocessor', preprocessor), ('model1', optimalModel)])\n",
    "\n",
    "\n",
    "# clf.fit(X_train, y_train)\n",
    "\n",
    "print(\"model score on test: %.3f\" % clf.score(X_test, y_test))\n",
    "print(\"model score on train: %.3f\" % clf.score(X_train, y_train))"
   ]
  },
  {
   "cell_type": "code",
   "execution_count": 42,
   "metadata": {},
   "outputs": [],
   "source": [
    "categorical_feature_names_preprocessed = clf['preprocessor'].transformers_[1][\n",
    "    1]['onehot'].get_feature_names(categorical_features)\n",
    "\n",
    "# categorical_feature_names_preprocessed\n",
    "description = clf['preprocessor'].transformers_[2][1].get_feature_names()\n",
    "\n",
    "group_1 = clf['preprocessor'].transformers_[3][1].get_feature_names()\n",
    "group_2 = clf['preprocessor'].transformers_[4][1].get_feature_names()\n",
    "group_3 = clf['preprocessor'].transformers_[5][1].get_feature_names()\n",
    "\n",
    "preprocessed_names = numeric_features + categorical_feature_names_preprocessed.tolist(\n",
    ") + description + group_1 + group_2 + group_3"
   ]
  },
  {
   "cell_type": "code",
   "execution_count": 43,
   "metadata": {},
   "outputs": [
    {
     "data": {
      "image/png": "[encoded data removed]",
      "text/plain": [
       "<Figure size 432x288 with 1 Axes>"
      ]
     },
     "metadata": {
      "needs_background": "light"
     },
     "output_type": "display_data"
    }
   ],
   "source": [
    "feat_importances = pd.Series(optimalModel.feature_importances_,\n",
    "                             index=preprocessed_names)\n",
    "feat_importances.nlargest(10).plot(kind='barh')\n",
    "plt.show()"
   ]
  },
  {
   "cell_type": "code",
   "execution_count": 44,
   "metadata": {},
   "outputs": [],
   "source": [
    "y_predict_test = clf.predict(X_test)\n",
    "pred_prob_dt_test = clf.predict_proba(X_test)"
   ]
  },
  {
   "cell_type": "code",
   "execution_count": 45,
   "metadata": {},
   "outputs": [
    {
     "data": {
      "image/png": "[encoded data removed]",
      "text/plain": [
       "<Figure size 432x288 with 2 Axes>"
      ]
     },
     "metadata": {
      "needs_background": "light"
     },
     "output_type": "display_data"
    }
   ],
   "source": [
    "plot_confusion_matrix(clf, X_test, y_test, display_labels=np.array([0, 1]))\n",
    "plt.show()"
   ]
  },
  {
   "cell_type": "code",
   "execution_count": 46,
   "metadata": {},
   "outputs": [
    {
     "name": "stdout",
     "output_type": "stream",
     "text": [
      "              precision    recall  f1-score   support\n",
      "\n",
      "           0       1.00      0.79      0.89        34\n",
      "           1       0.90      1.00      0.95        61\n",
      "\n",
      "    accuracy                           0.93        95\n",
      "   macro avg       0.95      0.90      0.92        95\n",
      "weighted avg       0.93      0.93      0.92        95\n",
      "\n"
     ]
    }
   ],
   "source": [
    "print(classification_report(y_test, y_predict_test))"
   ]
  },
  {
   "cell_type": "code",
   "execution_count": 47,
   "metadata": {},
   "outputs": [
    {
     "name": "stdout",
     "output_type": "stream",
     "text": [
      "ROC: AUC Class 0:  0.9852941176470588\n",
      "ROC: AUC Class 1:  0.9852941176470589\n",
      "Precision-Recall: AUC Class 0: 0.9779366068119302\n",
      "Precision-Recall: AUC Class 1: 0.9915619753744116\n"
     ]
    }
   ],
   "source": [
    "fpr0_test, tpr0_test, thresholds0_test = roc_curve(y_test,\n",
    "                                                   pred_prob_dt_test[:, 0],\n",
    "                                                   pos_label=0)\n",
    "print(\"ROC: AUC Class 0: \", auc(fpr0_test, tpr0_test))\n",
    "\n",
    "fpr1_test, tpr1_test, thresholds1_test = roc_curve(y_test,\n",
    "                                                   pred_prob_dt_test[:, 1],\n",
    "                                                   pos_label=1)\n",
    "print(\"ROC: AUC Class 1: \", auc(fpr1_test, tpr1_test))\n",
    "\n",
    "p0_test, r0_test, thresholds0_test = precision_recall_curve(\n",
    "    y_test, pred_prob_dt_test[:, 0], pos_label=0)\n",
    "print(\"Precision-Recall: AUC Class 0:\", auc(r0_test, p0_test))\n",
    "\n",
    "p1_test, r1_test, thresholds1_test = precision_recall_curve(\n",
    "    y_test, pred_prob_dt_test[:, 1], pos_label=1)\n",
    "print(\"Precision-Recall: AUC Class 1:\", auc(r1_test, p1_test))"
   ]
  },
  {
   "cell_type": "code",
   "execution_count": 48,
   "metadata": {},
   "outputs": [
    {
     "data": {
      "image/png": "[encoded data removed]",
      "text/plain": [
       "<Figure size 1080x360 with 2 Axes>"
      ]
     },
     "metadata": {
      "needs_background": "light"
     },
     "output_type": "display_data"
    }
   ],
   "source": [
    "plt.figure(figsize=(15, 5))\n",
    "\n",
    "plt.subplot(1, 2, 1)\n",
    "plt.plot(fpr0_test, tpr0_test, \"-\", label=\"Class 0\")\n",
    "plt.plot(fpr1_test, tpr1_test, \"-\", color='r', label=\"Class 1\")\n",
    "plt.title(\"ROC\")\n",
    "plt.xlabel(\"False Positive Rate\")\n",
    "plt.ylabel(\"True Positive Rate\")\n",
    "plt.legend()\n",
    "\n",
    "plt.subplot(1, 2, 2)\n",
    "plt.plot(r0_test, p0_test, \"-\", label=\"Class 0\")\n",
    "plt.plot(r1_test, p1_test, \"-\", color='r', label=\"Class 1\")\n",
    "plt.legend()\n",
    "plt.xlabel(\"Recall\")\n",
    "plt.ylabel(\"Precision\")\n",
    "plt.title(\"PR-curve\")\n",
    "\n",
    "plt.show()"
   ]
  },
  {
   "cell_type": "code",
   "execution_count": 49,
   "metadata": {},
   "outputs": [
    {
     "data": {
      "text/plain": [
       "array([0.81578947, 0.89473684, 0.84210526, 0.92105263, 0.89473684,\n",
       "       0.89473684, 0.92105263, 0.89189189, 0.86486486, 0.94594595])"
      ]
     },
     "execution_count": 49,
     "metadata": {},
     "output_type": "execute_result"
    }
   ],
   "source": [
    "scores = cross_val_score(clf,\n",
    "                         X_train,\n",
    "                         y_train,\n",
    "                         cv=10,\n",
    "                         scoring='accuracy',\n",
    "                         n_jobs=1)\n",
    "scores"
   ]
  },
  {
   "cell_type": "code",
   "execution_count": 50,
   "metadata": {},
   "outputs": [
    {
     "name": "stdout",
     "output_type": "stream",
     "text": [
      "Avg of the scores  0.8886913229018493\n",
      "Std of the scores  0.036803708633905134\n"
     ]
    }
   ],
   "source": [
    "print('Avg of the scores ', scores.mean())\n",
    "print('Std of the scores ', scores.std())"
   ]
  },
  {
   "cell_type": "markdown",
   "metadata": {},
   "source": [
    "We have high accuracy of 88% and therefore low bias, also we have low variance which proves that our model is very good in the training part.\n",
    "\n",
    "As we can see there are some cases of splitting that our dataset loses some accuracy, But overall accuracies at worst scenario have 82% accuracy, which is absolutely good for the model. However as we see the accuracy average of the cross validation got 5% less. "
   ]
  },
  {
   "cell_type": "markdown",
   "metadata": {},
   "source": [
    "# Conclusion"
   ]
  },
  {
   "cell_type": "markdown",
   "metadata": {},
   "source": [
    "To conclude our dataset was very good one. We could find model with high accuracy, precision, f-1 score, high aucs of Roc and Pr-curves. I also found the most important variables visualised above, which are the key to our Success/Failed classiffication."
   ]
  },
  {
   "cell_type": "markdown",
   "metadata": {},
   "source": [
    "I used ExtraTreesClassifier classifier as it has feature_importances_  parameter to investigate important variables and overall it was not bad one."
   ]
  }
 ],
 "metadata": {
  "kernelspec": {
   "display_name": "Python 3",
   "language": "python",
   "name": "python3"
  },
  "language_info": {
   "codemirror_mode": {
    "name": "ipython",
    "version": 3
   },
   "file_extension": ".py",
   "mimetype": "text/x-python",
   "name": "python",
   "nbconvert_exporter": "python",
   "pygments_lexer": "ipython3",
   "version": "3.7.7"
  }
 },
 "nbformat": 4,
 "nbformat_minor": 4
}
